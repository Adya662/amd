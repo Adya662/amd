{
 "cells": [
  {
   "cell_type": "markdown",
   "id": "f1ea7da4",
   "metadata": {},
   "source": [
    "## Setup and Imports"
   ]
  },
  {
   "cell_type": "code",
   "execution_count": 1,
   "id": "298d9c08",
   "metadata": {},
   "outputs": [
    {
     "name": "stderr",
     "output_type": "stream",
     "text": [
      "/Users/adyasrivastava/amd/.venv/lib/python3.13/site-packages/tqdm/auto.py:21: TqdmWarning: IProgress not found. Please update jupyter and ipywidgets. See https://ipywidgets.readthedocs.io/en/stable/user_install.html\n",
      "  from .autonotebook import tqdm as notebook_tqdm\n"
     ]
    },
    {
     "name": "stdout",
     "output_type": "stream",
     "text": [
      "PyTorch: 2.8.0\n",
      "GPU Available: False\n",
      "GPU Device: None\n"
     ]
    }
   ],
   "source": [
    "import os\n",
    "import random\n",
    "import json\n",
    "from pathlib import Path\n",
    "from typing import List, Tuple, Dict, Any, Optional\n",
    "from collections import Counter\n",
    "\n",
    "import numpy as np\n",
    "import pandas as pd\n",
    "import torch\n",
    "import torch.nn as nn\n",
    "from torch.utils.data import Dataset, DataLoader\n",
    "from transformers import (\n",
    "    AutoTokenizer, \n",
    "    AutoModelForSequenceClassification,\n",
    "    get_scheduler,\n",
    "    DataCollatorWithPadding\n",
    ")\n",
    "from sklearn.model_selection import train_test_split, StratifiedKFold\n",
    "from sklearn.metrics import (\n",
    "    accuracy_score,\n",
    "    precision_recall_fscore_support,\n",
    "    confusion_matrix,\n",
    "    classification_report\n",
    ")\n",
    "import matplotlib.pyplot as plt\n",
    "import seaborn as sns\n",
    "from tqdm.auto import tqdm\n",
    "import warnings\n",
    "warnings.filterwarnings('ignore')\n",
    "\n",
    "# Setup output directory\n",
    "OUTPUT_DIR = Path(\"output\")\n",
    "OUTPUT_DIR.mkdir(exist_ok=True)\n",
    "\n",
    "print(f\"PyTorch: {torch.__version__}\")\n",
    "print(f\"GPU Available: {torch.cuda.is_available()}\")\n",
    "print(f\"GPU Device: {torch.cuda.get_device_name() if torch.cuda.is_available() else 'None'}\")"
   ]
  },
  {
   "cell_type": "markdown",
   "id": "646365b9",
   "metadata": {},
   "source": [
    "## Reproducibility and Configuration"
   ]
  },
  {
   "cell_type": "code",
   "execution_count": 2,
   "id": "0e4f5ed4",
   "metadata": {},
   "outputs": [],
   "source": [
    "def set_global_seed(seed: int = 42) -> None:\n",
    "    \"\"\"Set all random seeds for reproducibility\"\"\"\n",
    "    random.seed(seed)\n",
    "    np.random.seed(seed)\n",
    "    torch.manual_seed(seed)\n",
    "    torch.cuda.manual_seed_all(seed)\n",
    "    torch.backends.cudnn.deterministic = True\n",
    "    torch.backends.cudnn.benchmark = False\n",
    "\n",
    "set_global_seed(42)\n",
    "\n",
    "# Configuration\n",
    "CONFIG = {\n",
    "    'model_name': 'prajjwal1/bert-tiny',  # BERT-Tiny: 2 layers, 128 hidden, 2 heads\n",
    "    'max_length': 128,\n",
    "    'batch_size': 32,  # Larger batch size for better GPU utilization\n",
    "    'learning_rate': 3e-5,\n",
    "    'num_epochs': 15,\n",
    "    'patience': 3,  # Early stopping patience\n",
    "    'test_size': 0.2,\n",
    "    'device': 'cuda' if torch.cuda.is_available() else 'cpu',\n",
    "    'csv_file': 'all_EN_calls.csv',\n",
    "    's3_bucket': 'voicex-call-recordings'\n",
    "}"
   ]
  },
  {
   "cell_type": "markdown",
   "id": "1b7c3051",
   "metadata": {},
   "source": []
  },
  {
   "cell_type": "markdown",
   "id": "a18a5bec",
   "metadata": {},
   "source": [
    "## Dataset Class"
   ]
  },
  {
   "cell_type": "code",
   "execution_count": 3,
   "id": "b27a80ac",
   "metadata": {},
   "outputs": [],
   "source": [
    "class TranscriptDataset(Dataset):\n",
    "    \"\"\"Dataset class for transcript classification with proper type hints\"\"\"\n",
    "    \n",
    "    def __init__(\n",
    "        self, \n",
    "        texts: List[str], \n",
    "        labels: List[int], \n",
    "        tokenizer: AutoTokenizer, \n",
    "        max_length: int = 128\n",
    "    ) -> None:\n",
    "        self.texts: List[str] = texts\n",
    "        self.labels: List[int] = labels\n",
    "        self.tokenizer: AutoTokenizer = tokenizer\n",
    "        self.max_length: int = max_length\n",
    "    \n",
    "    def __len__(self) -> int:\n",
    "        return len(self.texts)\n",
    "    \n",
    "    def __getitem__(self, idx: int) -> Dict[str, torch.Tensor]:\n",
    "        text: str = str(self.texts[idx])\n",
    "        label: int = int(self.labels[idx])\n",
    "        \n",
    "        encoding = self.tokenizer(\n",
    "            text,\n",
    "            add_special_tokens=True,\n",
    "            max_length=self.max_length,\n",
    "            padding='max_length',\n",
    "            truncation=True,\n",
    "            return_attention_mask=True,\n",
    "            return_tensors='pt'\n",
    "        )\n",
    "        \n",
    "        return {\n",
    "            'input_ids': encoding['input_ids'].squeeze(0),\n",
    "            'attention_mask': encoding['attention_mask'].squeeze(0),\n",
    "            'labels': torch.tensor(label, dtype=torch.float)  # BCEWithLogitsLoss expects float\n",
    "        }\n"
   ]
  },
  {
   "cell_type": "markdown",
   "id": "98ba9ebf",
   "metadata": {},
   "source": [
    "## Data Processing and Stratification"
   ]
  },
  {
   "cell_type": "code",
   "execution_count": 4,
   "id": "5a1db544",
   "metadata": {},
   "outputs": [],
   "source": [
    "def extract_user_text(transcript: List[Dict[str, Any]]) -> str:\n",
    "    \"\"\"Extract and combine all user utterances from transcript\"\"\"\n",
    "    if not transcript:\n",
    "        return \"\"\n",
    "    \n",
    "    user_texts: List[str] = []\n",
    "    for utterance in transcript:\n",
    "        if utterance.get(\"speaker\", \"\").lower() == \"user\":\n",
    "            content: str = utterance.get(\"content\", \"\").strip()\n",
    "            if content:\n",
    "                user_texts.append(content)\n",
    "    \n",
    "    return \" \".join(user_texts)\n",
    "\n",
    "def prepare_stratified_data(\n",
    "    call_data: List[Tuple[str, str, int]], \n",
    "    fuzzy_amd_instance,\n",
    "    test_size: float = 0.2,\n",
    "    random_state: int = 42\n",
    ") -> Tuple[List[str], List[str], List[int], List[int], List[str], List[str]]:\n",
    "    \"\"\"\n",
    "    Prepare stratified training data ensuring balanced representation\n",
    "    \"\"\"\n",
    "    print(\"Preparing stratified training data...\")\n",
    "    \n",
    "    # CRITICAL FIX: Set up call_data_map so _load_transcript can find transcript URLs\n",
    "    fuzzy_amd_instance.call_data_map = {call_id: (transcript_url, duration) for call_id, transcript_url, duration in call_data}\n",
    "    print(f\"Set up call_data_map with {len(fuzzy_amd_instance.call_data_map)} entries\")\n",
    "    \n",
    "    texts: List[str] = []\n",
    "    labels: List[int] = []\n",
    "    call_ids: List[str] = []\n",
    "    \n",
    "    # Process each call to get labels from rule-based system\n",
    "    for call_id, transcript_url, duration in tqdm(call_data, desc=\"Processing transcripts\"):\n",
    "        transcript = fuzzy_amd_instance._load_transcript(call_id)\n",
    "        if not transcript:\n",
    "            continue\n",
    "        \n",
    "        user_text: str = extract_user_text(transcript)\n",
    "        if not user_text.strip():\n",
    "            continue\n",
    "        \n",
    "        # Get label from rule-based detection\n",
    "        is_machine, reason = fuzzy_amd_instance._detect_machine(user_text)\n",
    "        \n",
    "        texts.append(user_text)\n",
    "        labels.append(1 if is_machine else 0)  # 1 for machine, 0 for human\n",
    "        call_ids.append(call_id)\n",
    "    \n",
    "    print(f\"Processed {len(texts)} valid transcripts\")\n",
    "    \n",
    "    # Check if we have any valid transcripts\n",
    "    if len(labels) == 0:\n",
    "        raise ValueError(\"No valid transcripts were processed! Check your data and S3 access.\")\n",
    "    \n",
    "    # Check class distribution\n",
    "    label_counts = Counter(labels)\n",
    "    print(f\"Class distribution: {dict(label_counts)}\")\n",
    "    \n",
    "    machine_pct = label_counts[1] / len(labels) * 100\n",
    "    human_pct = label_counts[0] / len(labels) * 100\n",
    "    print(f\"Machine: {label_counts[1]} ({machine_pct:.1f}%)\")\n",
    "    print(f\"Human: {label_counts[0]} ({human_pct:.1f}%)\")\n",
    "    \n",
    "    # Stratified split to maintain class proportions\n",
    "    if len(label_counts) > 1 and all(count >= 2 for count in label_counts.values()):\n",
    "        train_texts, val_texts, train_labels, val_labels, train_ids, val_ids = train_test_split(\n",
    "            texts, labels, call_ids, \n",
    "            test_size=test_size, \n",
    "            random_state=random_state, \n",
    "            stratify=labels  # This ensures balanced representation\n",
    "        )\n",
    "        print(\"✅ Stratified split successful\")\n",
    "    else:\n",
    "        print(\"⚠️ Insufficient samples for stratification, using random split\")\n",
    "        train_texts, val_texts, train_labels, val_labels, train_ids, val_ids = train_test_split(\n",
    "            texts, labels, call_ids, \n",
    "            test_size=test_size, \n",
    "            random_state=random_state\n",
    "        )\n",
    "    \n",
    "    # Verify stratification worked\n",
    "    train_counts = Counter(train_labels)\n",
    "    val_counts = Counter(val_labels)\n",
    "    \n",
    "    print(f\"\\nTrain set: {len(train_texts)} samples\")\n",
    "    print(f\"  Machine: {train_counts[1]} ({train_counts[1]/len(train_labels)*100:.1f}%)\")\n",
    "    print(f\"  Human: {train_counts[0]} ({train_counts[0]/len(train_labels)*100:.1f}%)\")\n",
    "    \n",
    "    print(f\"\\nValidation set: {len(val_texts)} samples\") \n",
    "    print(f\"  Machine: {val_counts[1]} ({val_counts[1]/len(val_labels)*100:.1f}%)\")\n",
    "    print(f\"  Human: {val_counts[0]} ({val_counts[0]/len(val_labels)*100:.1f}%)\")\n",
    "    \n",
    "    return train_texts, val_texts, train_labels, val_labels, train_ids, val_ids"
   ]
  },
  {
   "cell_type": "markdown",
   "id": "b58f3bf1",
   "metadata": {},
   "source": [
    "## Early Stopping Implementation"
   ]
  },
  {
   "cell_type": "code",
   "execution_count": 5,
   "id": "3dae152b",
   "metadata": {},
   "outputs": [],
   "source": [
    "class EarlyStopping:\n",
    "    \"\"\"Early stopping to prevent overfitting\"\"\"\n",
    "    \n",
    "    def __init__(self, patience: int = 3, min_delta: float = 1e-4, restore_best_weights: bool = True):\n",
    "        self.patience: int = patience\n",
    "        self.min_delta: float = min_delta\n",
    "        self.restore_best_weights: bool = restore_best_weights\n",
    "        self.counter: int = 0\n",
    "        self.best_loss: float = float('inf')\n",
    "        self.best_weights: Optional[Dict] = None\n",
    "        self.early_stop: bool = False\n",
    "    \n",
    "    def __call__(self, val_loss: float, model: nn.Module) -> bool:\n",
    "        if val_loss < self.best_loss - self.min_delta:\n",
    "            self.best_loss = val_loss\n",
    "            self.counter = 0\n",
    "            if self.restore_best_weights:\n",
    "                self.best_weights = model.state_dict().copy()\n",
    "        else:\n",
    "            self.counter += 1\n",
    "            \n",
    "        if self.counter >= self.patience:\n",
    "            self.early_stop = True\n",
    "            if self.restore_best_weights and self.best_weights:\n",
    "                model.load_state_dict(self.best_weights)\n",
    "                print(f\"Early stopping triggered! Restored best weights (val_loss={self.best_loss:.4f})\")\n",
    "            \n",
    "        return self.early_stop"
   ]
  },
  {
   "cell_type": "markdown",
   "id": "65f782b6",
   "metadata": {},
   "source": [
    "##  Load Data and Initialize FuzzyAMD"
   ]
  },
  {
   "cell_type": "code",
   "execution_count": 6,
   "id": "988ca1c1",
   "metadata": {},
   "outputs": [
    {
     "name": "stdout",
     "output_type": "stream",
     "text": [
      "Loading call data from all_EN_calls.csv...\n",
      "Strategy 1 - Successfully read CSV with 7874 rows\n",
      "Columns: ['call_id', 'tenant_id', 'workspace_id', 'agent_id', 'user_id', 'rule_id', 'room_id', 'start_time', 'end_time', 'duration', 'recording_url', 'egress_id', 'transcript_url', 'metrics', 'status', 'webhook_triggered', 'call_context', 'disposition_status', 'created_at', 'updated_at', 'deleted_at', 'additional_info', 'direction', 'trunk_id', 'trunk_country_code', 'trunk_phone_number', 'user_country_code', 'user_phone_number', 'external_call_id']\n",
      "All required columns found!\n",
      "Found 0 rows with valid transcript URLs\n",
      "Trying manual parsing strategy...\n",
      "Found columns - call_id: 0, duration: 9, transcript_url: 12\n",
      "Manual parsing extracted 8348 call records\n",
      "Loaded 8348 call records\n",
      "Preparing stratified training data...\n",
      "Set up call_data_map with 8348 entries\n"
     ]
    },
    {
     "name": "stderr",
     "output_type": "stream",
     "text": [
      "Processing transcripts: 100%|██████████| 8348/8348 [10:29<00:00, 13.26it/s]"
     ]
    },
    {
     "name": "stdout",
     "output_type": "stream",
     "text": [
      "Processed 3548 valid transcripts\n",
      "Class distribution: {1: 951, 0: 2597}\n",
      "Machine: 951 (26.8%)\n",
      "Human: 2597 (73.2%)\n",
      "✅ Stratified split successful\n",
      "\n",
      "Train set: 2838 samples\n",
      "  Machine: 761 (26.8%)\n",
      "  Human: 2077 (73.2%)\n",
      "\n",
      "Validation set: 710 samples\n",
      "  Machine: 190 (26.8%)\n",
      "  Human: 520 (73.2%)\n"
     ]
    },
    {
     "name": "stderr",
     "output_type": "stream",
     "text": [
      "\n"
     ]
    }
   ],
   "source": [
    "# Import your existing filter code\n",
    "from filter import FuzzyAMD, load_call_data_from_csv\n",
    "import boto3\n",
    "\n",
    "# Setup S3 client\n",
    "session = boto3.Session(profile_name='Power-root')\n",
    "s3_client = session.client('s3')\n",
    "\n",
    "# Load call data\n",
    "print(f\"Loading call data from {CONFIG['csv_file']}...\")\n",
    "call_data: List[Tuple[str, str, int]] = load_call_data_from_csv(CONFIG['csv_file'])\n",
    "print(f\"Loaded {len(call_data)} call records\")\n",
    "\n",
    "# Initialize FuzzyAMD for rule-based labeling\n",
    "fuzzy_amd = FuzzyAMD(\n",
    "    s3_bucket=CONFIG['s3_bucket'],\n",
    "    dict_path=\"dict.json\",\n",
    "    fuzzy_threshold=0.9,\n",
    "    s3_client=s3_client\n",
    ")\n",
    "\n",
    "# Prepare stratified training data\n",
    "train_texts, val_texts, train_labels, val_labels, train_ids, val_ids = prepare_stratified_data(\n",
    "    call_data, fuzzy_amd, test_size=CONFIG['test_size'], random_state=42\n",
    ")\n"
   ]
  },
  {
   "cell_type": "markdown",
   "id": "dc521b39",
   "metadata": {},
   "source": [
    "## Tokenizer and Data Loaders"
   ]
  },
  {
   "cell_type": "code",
   "execution_count": 8,
   "id": "e22972aa",
   "metadata": {},
   "outputs": [
    {
     "name": "stdout",
     "output_type": "stream",
     "text": [
      "Loaded tokenizer: prajjwal1/bert-tiny\n",
      "Vocab size: 30522\n",
      "Train batches: 89\n",
      "Validation batches: 23\n",
      "Batch shapes: {'input_ids': torch.Size([32, 128]), 'attention_mask': torch.Size([32, 128]), 'labels': torch.Size([32])}\n"
     ]
    }
   ],
   "source": [
    "# Load tokenizer\n",
    "tokenizer = AutoTokenizer.from_pretrained(CONFIG['model_name'])\n",
    "print(f\"Loaded tokenizer: {CONFIG['model_name']}\")\n",
    "print(f\"Vocab size: {tokenizer.vocab_size}\")\n",
    "\n",
    "# Create datasets\n",
    "train_dataset = TranscriptDataset(train_texts, train_labels, tokenizer, CONFIG['max_length'])\n",
    "val_dataset = TranscriptDataset(val_texts, val_labels, tokenizer, CONFIG['max_length'])\n",
    "\n",
    "# Use DataCollatorWithPadding for dynamic padding (more efficient)\n",
    "data_collator = DataCollatorWithPadding(tokenizer=tokenizer)\n",
    "\n",
    "# Create data loaders\n",
    "train_loader = DataLoader(\n",
    "    train_dataset, \n",
    "    batch_size=CONFIG['batch_size'], \n",
    "    shuffle=True,\n",
    "    collate_fn=data_collator,\n",
    "    pin_memory=True,  # Faster GPU transfer\n",
    "    num_workers=0     # FIXED: Disable multiprocessing for Jupyter compatibility\n",
    ")\n",
    "\n",
    "val_loader = DataLoader(\n",
    "    val_dataset, \n",
    "    batch_size=CONFIG['batch_size'], \n",
    "    shuffle=False,\n",
    "    collate_fn=data_collator,\n",
    "    pin_memory=True,\n",
    "    num_workers=0     # FIXED: Disable multiprocessing for Jupyter compatibility\n",
    ")\n",
    "\n",
    "print(f\"Train batches: {len(train_loader)}\")\n",
    "print(f\"Validation batches: {len(val_loader)}\")\n",
    "\n",
    "# Inspect a batch\n",
    "for batch in train_loader:\n",
    "    print(\"Batch shapes:\", {k: v.shape for k, v in batch.items()})\n",
    "    break"
   ]
  },
  {
   "cell_type": "markdown",
   "id": "b83e73c1",
   "metadata": {},
   "source": [
    "## Model Initialization with Single Logit Output"
   ]
  },
  {
   "cell_type": "code",
   "execution_count": 9,
   "id": "269e1726",
   "metadata": {},
   "outputs": [
    {
     "name": "stderr",
     "output_type": "stream",
     "text": [
      "Some weights of BertForSequenceClassification were not initialized from the model checkpoint at prajjwal1/bert-tiny and are newly initialized: ['classifier.bias', 'classifier.weight']\n",
      "You should probably TRAIN this model on a down-stream task to be able to use it for predictions and inference.\n"
     ]
    },
    {
     "name": "stdout",
     "output_type": "stream",
     "text": [
      "Model: prajjwal1/bert-tiny\n",
      "Device: cpu\n",
      "Total parameters: 4,386,049\n",
      "Trainable parameters: 4,386,049\n",
      "\n",
      "Model architecture:\n",
      "  - BERT config: BertConfig {\n",
      "  \"attention_probs_dropout_prob\": 0.1,\n",
      "  \"classifier_dropout\": null,\n",
      "  \"dtype\": \"float32\",\n",
      "  \"hidden_act\": \"gelu\",\n",
      "  \"hidden_dropout_prob\": 0.1,\n",
      "  \"hidden_size\": 128,\n",
      "  \"id2label\": {\n",
      "    \"0\": \"LABEL_0\"\n",
      "  },\n",
      "  \"initializer_range\": 0.02,\n",
      "  \"intermediate_size\": 512,\n",
      "  \"label2id\": {\n",
      "    \"LABEL_0\": 0\n",
      "  },\n",
      "  \"layer_norm_eps\": 1e-12,\n",
      "  \"max_position_embeddings\": 512,\n",
      "  \"model_type\": \"bert\",\n",
      "  \"num_attention_heads\": 2,\n",
      "  \"num_hidden_layers\": 2,\n",
      "  \"pad_token_id\": 0,\n",
      "  \"position_embedding_type\": \"absolute\",\n",
      "  \"transformers_version\": \"4.56.0\",\n",
      "  \"type_vocab_size\": 2,\n",
      "  \"use_cache\": true,\n",
      "  \"vocab_size\": 30522\n",
      "}\n",
      "\n",
      "  - Hidden size: 128\n",
      "  - Num layers: 2\n",
      "  - Classifier: Linear(in_features=128, out_features=1, bias=True)\n",
      "  - Output neurons: 1 (single logit)\n",
      "\n",
      "Test forward pass:\n",
      "  - Logits shape: torch.Size([32, 1])\n",
      "  - Loss function: BCEWithLogitsLoss (sigmoid + BCE combined)\n",
      "  - Activation: Sigmoid (applied internally in loss function)\n",
      "  - Raw logit sample: -0.1205\n"
     ]
    }
   ],
   "source": [
    "# **Architecture Choice:**\n",
    "# - Using `num_labels=1` creates a linear layer with 1 output (single logit)\n",
    "# - Model outputs raw logit value (no activation applied)\n",
    "# - Uses **BCEWithLogitsLoss** which applies sigmoid internally for numerical stability\n",
    "# - More direct approach for binary classification\n",
    "\n",
    "# %%\n",
    "# Initialize model using AutoModelForSequenceClassification with single output\n",
    "model = AutoModelForSequenceClassification.from_pretrained(\n",
    "    CONFIG['model_name'], \n",
    "    num_labels=1  # Binary classification: single logit output\n",
    ")\n",
    "\n",
    "# Move to GPU\n",
    "device = torch.device(CONFIG['device'])\n",
    "model = model.to(device)\n",
    "\n",
    "print(f\"Model: {CONFIG['model_name']}\")\n",
    "print(f\"Device: {device}\")\n",
    "print(f\"Total parameters: {sum(p.numel() for p in model.parameters()):,}\")\n",
    "print(f\"Trainable parameters: {sum(p.numel() for p in model.parameters() if p.requires_grad):,}\")\n",
    "\n",
    "# Check model architecture\n",
    "print(f\"\\nModel architecture:\")\n",
    "print(f\"  - BERT config: {model.bert.config}\")\n",
    "print(f\"  - Hidden size: {model.bert.config.hidden_size}\")\n",
    "print(f\"  - Num layers: {model.bert.config.num_hidden_layers}\")\n",
    "print(f\"  - Classifier: {model.classifier}\")\n",
    "print(f\"  - Output neurons: 1 (single logit)\")\n",
    "\n",
    "# Test forward pass\n",
    "for batch in train_loader:\n",
    "    batch = {k: v.to(device) for k, v in batch.items()}\n",
    "    with torch.no_grad():\n",
    "        outputs = model(**batch)\n",
    "        print(f\"\\nTest forward pass:\")\n",
    "        print(f\"  - Logits shape: {outputs.logits.shape}\")  # [batch_size, 1]\n",
    "        print(f\"  - Loss function: BCEWithLogitsLoss (sigmoid + BCE combined)\")\n",
    "        print(f\"  - Activation: Sigmoid (applied internally in loss function)\")\n",
    "        print(f\"  - Raw logit sample: {outputs.logits[0].item():.4f}\")\n",
    "    break"
   ]
  },
  {
   "cell_type": "markdown",
   "id": "5e4b0ffb",
   "metadata": {},
   "source": [
    "## Positive Weight Calculation for Imbalanced Dataset"
   ]
  },
  {
   "cell_type": "code",
   "execution_count": 10,
   "id": "3920d2ff",
   "metadata": {},
   "outputs": [
    {
     "name": "stdout",
     "output_type": "stream",
     "text": [
      "Dataset distribution:\n",
      "  Human calls (label=0): 2077\n",
      "  Machine calls (label=1): 761\n",
      "  Pos_weight: 2.729\n",
      "  Interpretation: Machine class gets 2.7x more penalty for misclassification\n"
     ]
    }
   ],
   "source": [
    "#Since we have 26.8% machine calls and 73.2% human calls, we'll compute pos_weight\n",
    "# for BCEWithLogitsLoss to handle the imbalance.\n",
    "\n",
    "def compute_pos_weight(labels: List[int]) -> float:\n",
    "    \"\"\"\n",
    "    Calculate positive weight for BCEWithLogitsLoss\n",
    "    pos_weight = (number of negative samples) / (number of positive samples)\n",
    "    \"\"\"\n",
    "    labels_array = np.array(labels)\n",
    "    pos_count = labels_array.sum()  # Machine calls (label=1)\n",
    "    neg_count = len(labels_array) - pos_count  # Human calls (label=0)\n",
    "    \n",
    "    if pos_count == 0:\n",
    "        return 1.0\n",
    "    \n",
    "    pos_weight = neg_count / pos_count\n",
    "    return float(pos_weight)\n",
    "\n",
    "# Calculate pos_weight for imbalanced dataset\n",
    "pos_weight = compute_pos_weight(train_labels)\n",
    "pos_weight_tensor = torch.tensor(pos_weight, dtype=torch.float).to(device)\n",
    "\n",
    "print(f\"Dataset distribution:\")\n",
    "print(f\"  Human calls (label=0): {sum(1 for l in train_labels if l == 0)}\")\n",
    "print(f\"  Machine calls (label=1): {sum(1 for l in train_labels if l == 1)}\")\n",
    "print(f\"  Pos_weight: {pos_weight:.3f}\")\n",
    "print(f\"  Interpretation: Machine class gets {pos_weight:.1f}x more penalty for misclassification\")\n",
    "\n",
    "# Create loss function with pos_weight\n",
    "criterion = nn.BCEWithLogitsLoss(pos_weight=pos_weight_tensor)\n"
   ]
  },
  {
   "cell_type": "markdown",
   "id": "4cb06a75",
   "metadata": {},
   "source": [
    "## Optimizer and Learning Rate Scheduler"
   ]
  },
  {
   "cell_type": "code",
   "execution_count": 11,
   "id": "267a6acd",
   "metadata": {},
   "outputs": [
    {
     "name": "stdout",
     "output_type": "stream",
     "text": [
      "Training steps: 1335\n",
      "Warmup steps: 133\n"
     ]
    }
   ],
   "source": [
    "# Setup optimizer (AdamW is standard for transformers)\n",
    "optimizer = torch.optim.AdamW(\n",
    "    model.parameters(), \n",
    "    lr=CONFIG['learning_rate'],\n",
    "    weight_decay=0.01  # L2 regularization\n",
    ")\n",
    "\n",
    "# Calculate total training steps\n",
    "num_training_steps = CONFIG['num_epochs'] * len(train_loader)\n",
    "\n",
    "# Learning rate scheduler with warmup\n",
    "lr_scheduler = get_scheduler(\n",
    "    \"linear\",\n",
    "    optimizer=optimizer,\n",
    "    num_warmup_steps=int(0.1 * num_training_steps),  # 10% warmup\n",
    "    num_training_steps=num_training_steps,\n",
    ")\n",
    "\n",
    "print(f\"Training steps: {num_training_steps}\")\n",
    "print(f\"Warmup steps: {int(0.1 * num_training_steps)}\")"
   ]
  },
  {
   "cell_type": "markdown",
   "id": "d2f2fa1f",
   "metadata": {},
   "source": [
    "## Training Loop"
   ]
  },
  {
   "cell_type": "code",
   "execution_count": 12,
   "id": "8a22e492",
   "metadata": {},
   "outputs": [],
   "source": [
    "def train_epoch(\n",
    "    model: nn.Module, \n",
    "    train_loader: DataLoader, \n",
    "    optimizer: torch.optim.Optimizer,\n",
    "    lr_scheduler,\n",
    "    criterion: nn.Module,\n",
    "    device: torch.device\n",
    ") -> float:\n",
    "    \"\"\"Train for one epoch\"\"\"\n",
    "    model.train()\n",
    "    total_loss: float = 0.0\n",
    "    \n",
    "    for batch in tqdm(train_loader, desc=\"Training\"):\n",
    "        # Move batch to device\n",
    "        batch = {k: v.to(device) for k, v in batch.items()}\n",
    "        \n",
    "        # Zero gradients\n",
    "        optimizer.zero_grad()\n",
    "        \n",
    "        # Forward pass - manually compute loss since we're using custom criterion\n",
    "        outputs = model(input_ids=batch['input_ids'], attention_mask=batch['attention_mask'])\n",
    "        logits = outputs.logits.squeeze(-1)  # Remove last dimension: [batch_size, 1] -> [batch_size]\n",
    "        loss = criterion(logits, batch['labels'])\n",
    "        \n",
    "        # Backward pass\n",
    "        loss.backward()\n",
    "        \n",
    "        # Gradient clipping (prevents exploding gradients)\n",
    "        torch.nn.utils.clip_grad_norm_(model.parameters(), max_norm=1.0)\n",
    "        \n",
    "        # Update weights\n",
    "        optimizer.step()\n",
    "        lr_scheduler.step()\n",
    "        \n",
    "        total_loss += loss.item()\n",
    "    \n",
    "    return total_loss / len(train_loader)\n",
    "\n",
    "@torch.no_grad()\n",
    "def validate_epoch(\n",
    "    model: nn.Module, \n",
    "    val_loader: DataLoader, \n",
    "    criterion: nn.Module,\n",
    "    device: torch.device\n",
    ") -> Tuple[float, float, List[float], List[int]]:\n",
    "    \"\"\"Validate for one epoch\"\"\"\n",
    "    model.eval()\n",
    "    total_loss: float = 0.0\n",
    "    all_probs: List[float] = []\n",
    "    all_labels: List[int] = []\n",
    "    \n",
    "    for batch in val_loader:\n",
    "        batch = {k: v.to(device) for k, v in batch.items()}\n",
    "        \n",
    "        # Forward pass\n",
    "        outputs = model(input_ids=batch['input_ids'], attention_mask=batch['attention_mask'])\n",
    "        logits = outputs.logits.squeeze(-1)  # [batch_size, 1] -> [batch_size]\n",
    "        loss = criterion(logits, batch['labels'])\n",
    "        total_loss += loss.item()\n",
    "        \n",
    "        # Convert logits to probabilities using sigmoid\n",
    "        probs = torch.sigmoid(logits)  # Apply sigmoid to get probabilities\n",
    "        \n",
    "        all_probs.extend(probs.cpu().numpy().tolist())\n",
    "        all_labels.extend(batch['labels'].cpu().numpy().astype(int).tolist())\n",
    "    \n",
    "    avg_loss = total_loss / len(val_loader)\n",
    "    \n",
    "    # Calculate accuracy at 0.5 threshold\n",
    "    predictions = (np.array(all_probs) >= 0.5).astype(int)\n",
    "    accuracy = accuracy_score(all_labels, predictions)\n",
    "    \n",
    "    return avg_loss, accuracy, all_probs, all_labels\n"
   ]
  },
  {
   "cell_type": "markdown",
   "id": "3e372796",
   "metadata": {},
   "source": [
    "## Live Training Visualization Setup"
   ]
  },
  {
   "cell_type": "code",
   "execution_count": 13,
   "id": "d8bab1b3",
   "metadata": {},
   "outputs": [],
   "source": [
    "import matplotlib.pyplot as plt\n",
    "from IPython.display import clear_output\n",
    "import time\n",
    "\n",
    "def setup_live_plot():\n",
    "    \"\"\"Setup live plotting for training monitoring\"\"\"\n",
    "    fig, axes = plt.subplots(2, 2, figsize=(15, 8))\n",
    "    ax1, ax2, ax3, ax4 = axes.flat\n",
    "    \n",
    "    # Configure subplots\n",
    "    plots = [\n",
    "        (ax1, 'Training and Validation Loss', 'Epoch', 'Loss', \n",
    "         [('Training Loss', 'b-'), ('Validation Loss', 'r-')]),\n",
    "        (ax2, 'Validation Accuracy', 'Epoch', 'Accuracy', \n",
    "         [('Validation Accuracy', 'g-')]),\n",
    "        (ax3, 'Learning Rate Schedule', 'Epoch', 'Learning Rate', \n",
    "         [('Learning Rate', 'm-')]),\n",
    "        (ax4, 'Overfitting Monitor (Train-Val Loss)', 'Epoch', 'Loss Difference', \n",
    "         [('Loss Difference', 'orange')])\n",
    "    ]\n",
    "    \n",
    "    lines = []\n",
    "    for ax, title, xlabel, ylabel, plot_configs in plots:\n",
    "        ax.set_title(title)\n",
    "        ax.set_xlabel(xlabel)\n",
    "        ax.set_ylabel(ylabel)\n",
    "        ax.grid(True, alpha=0.3)\n",
    "        \n",
    "        # Add plot lines\n",
    "        for label, style in plot_configs:\n",
    "            line, = ax.plot([], [], style, label=label, linewidth=2)\n",
    "            lines.append(line)\n",
    "        \n",
    "        ax.legend()\n",
    "    \n",
    "    # Special configurations\n",
    "    ax3.set_yscale('log')  # Learning rate on log scale\n",
    "    ax4.axhline(y=0, color='black', linestyle='--', alpha=0.5)  # Zero reference line\n",
    "    \n",
    "    plt.tight_layout()\n",
    "    return fig, axes, lines\n",
    "\n",
    "def update_live_plot(epoch, train_losses, val_losses, val_accuracies, learning_rates, \n",
    "                    axes, lines):\n",
    "    \"\"\"Update live plot with new data\"\"\"\n",
    "    epochs = list(range(1, epoch + 2))\n",
    "    \n",
    "    # Update each subplot\n",
    "    updates = [\n",
    "        (lines[0:2], [train_losses, val_losses]),      # Loss curves\n",
    "        (lines[2:3], [val_accuracies]),                # Accuracy\n",
    "        (lines[3:4], [learning_rates]),                # Learning rate\n",
    "        (lines[4:5], [[t - v for t, v in zip(train_losses, val_losses)]])  # Loss difference\n",
    "    ]\n",
    "    \n",
    "    for (plot_lines, data_sets), ax in zip(updates, axes.flat):\n",
    "        for line, data in zip(plot_lines, data_sets):\n",
    "            line.set_data(epochs, data)\n",
    "        ax.relim()\n",
    "        ax.autoscale_view()\n",
    "    \n",
    "    plt.draw()"
   ]
  },
  {
   "cell_type": "markdown",
   "id": "ada99517",
   "metadata": {},
   "source": [
    "## Main Training Loop with Live Plotting"
   ]
  },
  {
   "cell_type": "code",
   "execution_count": 14,
   "id": "23a14e6f",
   "metadata": {},
   "outputs": [
    {
     "name": "stdout",
     "output_type": "stream",
     "text": [
      "\n",
      "==================================================\n",
      "Starting Training with Live Monitoring\n",
      "==================================================\n"
     ]
    },
    {
     "name": "stderr",
     "output_type": "stream",
     "text": [
      "Total Progress:   0%|          | 0/1335 [00:00<?, ?it/s]"
     ]
    },
    {
     "name": "stdout",
     "output_type": "stream",
     "text": [
      "\n",
      "Epoch 1/15\n"
     ]
    },
    {
     "name": "stderr",
     "output_type": "stream",
     "text": [
      "Training: 100%|██████████| 89/89 [01:40<00:00,  1.13s/it]\n"
     ]
    },
    {
     "name": "stdout",
     "output_type": "stream",
     "text": [
      "Train Loss: 0.9436 | Val Loss: 0.8112 | Val Acc: 0.9042\n",
      "Learning Rate: 2.01e-05\n"
     ]
    },
    {
     "name": "stderr",
     "output_type": "stream",
     "text": [
      "Total Progress:   7%|▋         | 89/1335 [01:47<25:01,  1.21s/it]"
     ]
    },
    {
     "name": "stdout",
     "output_type": "stream",
     "text": [
      "💾 Saved new best model (acc=0.9042)\n",
      "\n",
      "Epoch 2/15\n"
     ]
    },
    {
     "name": "stderr",
     "output_type": "stream",
     "text": [
      "Training: 100%|██████████| 89/89 [05:33<00:00,  3.75s/it]\n"
     ]
    },
    {
     "name": "stdout",
     "output_type": "stream",
     "text": [
      "Train Loss: 0.6628 | Val Loss: 0.4865 | Val Acc: 0.9690\n",
      "Learning Rate: 2.89e-05\n"
     ]
    },
    {
     "name": "stderr",
     "output_type": "stream",
     "text": [
      "Total Progress:  13%|█▎        | 178/1335 [07:45<55:11,  2.86s/it]"
     ]
    },
    {
     "name": "stdout",
     "output_type": "stream",
     "text": [
      "💾 Saved new best model (acc=0.9690)\n",
      "\n",
      "Epoch 3/15\n"
     ]
    },
    {
     "name": "stderr",
     "output_type": "stream",
     "text": [
      "Training: 100%|██████████| 89/89 [02:28<00:00,  1.67s/it]\n"
     ]
    },
    {
     "name": "stdout",
     "output_type": "stream",
     "text": [
      "Train Loss: 0.4021 | Val Loss: 0.3456 | Val Acc: 0.9704\n",
      "Learning Rate: 2.67e-05\n"
     ]
    },
    {
     "name": "stderr",
     "output_type": "stream",
     "text": [
      "Total Progress:  20%|██        | 267/1335 [10:22<42:03,  2.36s/it]"
     ]
    },
    {
     "name": "stdout",
     "output_type": "stream",
     "text": [
      "💾 Saved new best model (acc=0.9704)\n",
      "\n",
      "Epoch 4/15\n"
     ]
    },
    {
     "name": "stderr",
     "output_type": "stream",
     "text": [
      "Training: 100%|██████████| 89/89 [01:38<00:00,  1.11s/it]\n"
     ]
    },
    {
     "name": "stdout",
     "output_type": "stream",
     "text": [
      "Train Loss: 0.2805 | Val Loss: 0.2693 | Val Acc: 0.9718\n",
      "Learning Rate: 2.44e-05\n"
     ]
    },
    {
     "name": "stderr",
     "output_type": "stream",
     "text": [
      "Total Progress:  27%|██▋       | 356/1335 [12:08<31:00,  1.90s/it]"
     ]
    },
    {
     "name": "stdout",
     "output_type": "stream",
     "text": [
      "💾 Saved new best model (acc=0.9718)\n",
      "\n",
      "Epoch 5/15\n"
     ]
    },
    {
     "name": "stderr",
     "output_type": "stream",
     "text": [
      "Training: 100%|██████████| 89/89 [01:31<00:00,  1.03s/it]\n"
     ]
    },
    {
     "name": "stdout",
     "output_type": "stream",
     "text": [
      "Train Loss: 0.2148 | Val Loss: 0.2447 | Val Acc: 0.9690\n",
      "Learning Rate: 2.22e-05\n"
     ]
    },
    {
     "name": "stderr",
     "output_type": "stream",
     "text": [
      "Total Progress:  33%|███▎      | 445/1335 [13:47<23:57,  1.62s/it]"
     ]
    },
    {
     "name": "stdout",
     "output_type": "stream",
     "text": [
      "\n",
      "Epoch 6/15\n"
     ]
    },
    {
     "name": "stderr",
     "output_type": "stream",
     "text": [
      "Training: 100%|██████████| 89/89 [01:44<00:00,  1.18s/it]\n"
     ]
    },
    {
     "name": "stdout",
     "output_type": "stream",
     "text": [
      "Train Loss: 0.1808 | Val Loss: 0.2035 | Val Acc: 0.9761\n",
      "Learning Rate: 2.00e-05\n"
     ]
    },
    {
     "name": "stderr",
     "output_type": "stream",
     "text": [
      "Total Progress:  40%|████      | 534/1335 [15:39<19:57,  1.49s/it]"
     ]
    },
    {
     "name": "stdout",
     "output_type": "stream",
     "text": [
      "💾 Saved new best model (acc=0.9761)\n",
      "\n",
      "Epoch 7/15\n"
     ]
    },
    {
     "name": "stderr",
     "output_type": "stream",
     "text": [
      "Training: 100%|██████████| 89/89 [01:36<00:00,  1.09s/it]\n"
     ]
    },
    {
     "name": "stdout",
     "output_type": "stream",
     "text": [
      "Train Loss: 0.1491 | Val Loss: 0.1939 | Val Acc: 0.9746\n",
      "Learning Rate: 1.78e-05\n"
     ]
    },
    {
     "name": "stderr",
     "output_type": "stream",
     "text": [
      "Total Progress:  47%|████▋     | 623/1335 [17:23<16:28,  1.39s/it]"
     ]
    },
    {
     "name": "stdout",
     "output_type": "stream",
     "text": [
      "\n",
      "Epoch 8/15\n"
     ]
    },
    {
     "name": "stderr",
     "output_type": "stream",
     "text": [
      "Training: 100%|██████████| 89/89 [01:37<00:00,  1.09s/it]\n"
     ]
    },
    {
     "name": "stdout",
     "output_type": "stream",
     "text": [
      "Train Loss: 0.1333 | Val Loss: 0.1939 | Val Acc: 0.9746\n",
      "Learning Rate: 1.55e-05\n"
     ]
    },
    {
     "name": "stderr",
     "output_type": "stream",
     "text": [
      "Total Progress:  53%|█████▎    | 712/1335 [19:07<13:41,  1.32s/it]"
     ]
    },
    {
     "name": "stdout",
     "output_type": "stream",
     "text": [
      "\n",
      "Epoch 9/15\n"
     ]
    },
    {
     "name": "stderr",
     "output_type": "stream",
     "text": [
      "Training: 100%|██████████| 89/89 [04:39<00:00,  3.14s/it]\n"
     ]
    },
    {
     "name": "stdout",
     "output_type": "stream",
     "text": [
      "Train Loss: 0.1284 | Val Loss: 0.1721 | Val Acc: 0.9775\n",
      "Learning Rate: 1.33e-05\n"
     ]
    },
    {
     "name": "stderr",
     "output_type": "stream",
     "text": [
      "Total Progress:  60%|██████    | 801/1335 [23:54<17:02,  1.91s/it]"
     ]
    },
    {
     "name": "stdout",
     "output_type": "stream",
     "text": [
      "💾 Saved new best model (acc=0.9775)\n",
      "\n",
      "Epoch 10/15\n"
     ]
    },
    {
     "name": "stderr",
     "output_type": "stream",
     "text": [
      "Training: 100%|██████████| 89/89 [01:33<00:00,  1.05s/it]\n"
     ]
    },
    {
     "name": "stdout",
     "output_type": "stream",
     "text": [
      "Train Loss: 0.1101 | Val Loss: 0.1727 | Val Acc: 0.9732\n",
      "Learning Rate: 1.11e-05\n"
     ]
    },
    {
     "name": "stderr",
     "output_type": "stream",
     "text": [
      "Total Progress:  67%|██████▋   | 890/1335 [25:35<12:24,  1.67s/it]"
     ]
    },
    {
     "name": "stdout",
     "output_type": "stream",
     "text": [
      "\n",
      "Epoch 11/15\n"
     ]
    },
    {
     "name": "stderr",
     "output_type": "stream",
     "text": [
      "Training: 100%|██████████| 89/89 [01:34<00:00,  1.06s/it]\n"
     ]
    },
    {
     "name": "stdout",
     "output_type": "stream",
     "text": [
      "Train Loss: 0.1054 | Val Loss: 0.1722 | Val Acc: 0.9746\n",
      "Learning Rate: 8.89e-06\n"
     ]
    },
    {
     "name": "stderr",
     "output_type": "stream",
     "text": [
      "Total Progress:  73%|███████▎  | 979/1335 [27:16<08:57,  1.51s/it]"
     ]
    },
    {
     "name": "stdout",
     "output_type": "stream",
     "text": [
      "\n",
      "Epoch 12/15\n"
     ]
    },
    {
     "name": "stderr",
     "output_type": "stream",
     "text": [
      "Training: 100%|██████████| 89/89 [01:31<00:00,  1.03s/it]\n"
     ]
    },
    {
     "name": "stdout",
     "output_type": "stream",
     "text": [
      "Train Loss: 0.0966 | Val Loss: 0.1824 | Val Acc: 0.9775\n",
      "Learning Rate: 6.66e-06\n"
     ]
    },
    {
     "name": "stderr",
     "output_type": "stream",
     "text": [
      "Total Progress:  73%|███████▎  | 979/1335 [28:55<10:30,  1.77s/it]"
     ]
    },
    {
     "name": "stdout",
     "output_type": "stream",
     "text": [
      "Early stopping triggered! Restored best weights (val_loss=0.1721)\n",
      "Early stopping at epoch 12\n"
     ]
    },
    {
     "name": "stderr",
     "output_type": "stream",
     "text": [
      "\n"
     ]
    },
    {
     "name": "stdout",
     "output_type": "stream",
     "text": [
      "\n",
      "Training completed!\n",
      "Best validation accuracy: 0.9775\n"
     ]
    },
    {
     "data": {
      "image/png": "[encoded data removed]",
      "text/plain": [
       "<Figure size 1500x800 with 4 Axes>"
      ]
     },
     "metadata": {},
     "output_type": "display_data"
    }
   ],
   "source": [
    "# Initialize tracking variables\n",
    "train_losses: List[float] = []\n",
    "val_losses: List[float] = []\n",
    "val_accuracies: List[float] = []\n",
    "learning_rates: List[float] = []\n",
    "\n",
    "# Early stopping\n",
    "early_stopping = EarlyStopping(patience=CONFIG['patience'], min_delta=1e-4)\n",
    "\n",
    "# Setup live plotting\n",
    "fig, axes, lines = setup_live_plot()\n",
    "\n",
    "# Training loop\n",
    "print(f\"\\n{'='*50}\")\n",
    "print(\"Starting Training with Live Monitoring\")\n",
    "print(f\"{'='*50}\")\n",
    "\n",
    "progress_bar = tqdm(range(num_training_steps), desc=\"Total Progress\")\n",
    "\n",
    "for epoch in range(CONFIG['num_epochs']):\n",
    "    print(f\"\\nEpoch {epoch + 1}/{CONFIG['num_epochs']}\")\n",
    "    \n",
    "    # Train\n",
    "    train_loss = train_epoch(model, train_loader, optimizer, lr_scheduler, criterion, device)\n",
    "    \n",
    "    # Validate  \n",
    "    val_loss, val_acc, val_probs, val_true = validate_epoch(model, val_loader, criterion, device)\n",
    "    \n",
    "    # Store metrics\n",
    "    train_losses.append(train_loss)\n",
    "    val_losses.append(val_loss)\n",
    "    val_accuracies.append(val_acc)\n",
    "    learning_rates.append(lr_scheduler.get_last_lr()[0])\n",
    "    \n",
    "    print(f\"Train Loss: {train_loss:.4f} | Val Loss: {val_loss:.4f} | Val Acc: {val_acc:.4f}\")\n",
    "    print(f\"Learning Rate: {lr_scheduler.get_last_lr()[0]:.2e}\")\n",
    "    \n",
    "    # Update live plot\n",
    "    update_live_plot(epoch, train_losses, val_losses, val_accuracies, learning_rates, axes, lines)\n",
    "    \n",
    "    # Early stopping check\n",
    "    if early_stopping(val_loss, model):\n",
    "        print(f\"Early stopping at epoch {epoch + 1}\")\n",
    "        break\n",
    "    \n",
    "    # Save best model\n",
    "    if val_acc == max(val_accuracies):\n",
    "        torch.save(model.state_dict(), OUTPUT_DIR / 'best_bert_tiny_amd.pth')\n",
    "        print(f\"💾 Saved new best model (acc={val_acc:.4f})\")\n",
    "    \n",
    "    # Update progress bar\n",
    "    steps_this_epoch = len(train_loader)\n",
    "    progress_bar.update(steps_this_epoch)\n",
    "\n",
    "progress_bar.close()\n",
    "\n",
    "# Save final live plot\n",
    "plt.savefig(OUTPUT_DIR / 'live_training_curves.png', dpi=300, bbox_inches='tight')\n",
    "\n",
    "print(f\"\\nTraining completed!\")\n",
    "print(f\"Best validation accuracy: {max(val_accuracies):.4f}\")\n"
   ]
  },
  {
   "cell_type": "markdown",
   "id": "4b0f6ca8",
   "metadata": {},
   "source": [
    "## Comprehensive Evaluation and Metrics"
   ]
  },
  {
   "cell_type": "code",
   "execution_count": 15,
   "id": "c401adb4",
   "metadata": {},
   "outputs": [
    {
     "name": "stdout",
     "output_type": "stream",
     "text": [
      "Loaded best model for evaluation\n",
      "\n",
      "==================================================\n",
      "FINAL EVALUATION RESULTS\n",
      "==================================================\n",
      "Accuracy:  0.9775\n",
      "Precision: 0.9579\n",
      "Recall:    0.9579\n",
      "F1-Score:  0.9579\n",
      "\n",
      "Detailed Classification Report:\n",
      "              precision    recall  f1-score   support\n",
      "\n",
      "       Human     0.9846    0.9846    0.9846       520\n",
      "     Machine     0.9579    0.9579    0.9579       190\n",
      "\n",
      "    accuracy                         0.9775       710\n",
      "   macro avg     0.9713    0.9713    0.9713       710\n",
      "weighted avg     0.9775    0.9775    0.9775       710\n",
      "\n",
      "\n",
      "Confusion Matrix:\n",
      "       Predicted\n",
      "       Human  Machine\n",
      "Human     512       8\n",
      "Machine     8     182\n"
     ]
    }
   ],
   "source": [
    "# Load best model for evaluation\n",
    "model.load_state_dict(torch.load(OUTPUT_DIR / 'best_bert_tiny_amd.pth', map_location=device))\n",
    "print(\"Loaded best model for evaluation\")\n",
    "\n",
    "# Final evaluation\n",
    "final_val_loss, final_val_acc, final_probs, final_labels = validate_epoch(\n",
    "    model, val_loader, criterion, device\n",
    ")\n",
    "\n",
    "# Detailed metrics at threshold 0.5\n",
    "threshold: float = 0.5\n",
    "predictions = (np.array(final_probs) >= threshold).astype(int)\n",
    "\n",
    "accuracy = accuracy_score(final_labels, predictions)\n",
    "precision, recall, f1, _ = precision_recall_fscore_support(\n",
    "    final_labels, predictions, average='binary', zero_division=0\n",
    ")\n",
    "\n",
    "print(f\"\\n{'='*50}\")\n",
    "print(\"FINAL EVALUATION RESULTS\")\n",
    "print(f\"{'='*50}\")\n",
    "print(f\"Accuracy:  {accuracy:.4f}\")\n",
    "print(f\"Precision: {precision:.4f}\")\n",
    "print(f\"Recall:    {recall:.4f}\")\n",
    "print(f\"F1-Score:  {f1:.4f}\")\n",
    "\n",
    "# Detailed classification report\n",
    "print(f\"\\nDetailed Classification Report:\")\n",
    "print(classification_report(\n",
    "    final_labels, predictions, \n",
    "    target_names=['Human', 'Machine'],\n",
    "    digits=4\n",
    "))\n",
    "\n",
    "# Confusion matrix\n",
    "cm = confusion_matrix(final_labels, predictions)\n",
    "print(f\"\\nConfusion Matrix:\")\n",
    "print(f\"       Predicted\")\n",
    "print(f\"       Human  Machine\")\n",
    "print(f\"Human    {cm[0,0]:4d}    {cm[0,1]:4d}\")\n",
    "print(f\"Machine  {cm[1,0]:4d}    {cm[1,1]:4d}\")"
   ]
  },
  {
   "cell_type": "markdown",
   "id": "28451138",
   "metadata": {},
   "source": [
    "## Visualization: Training Curves and Confusion Matrix"
   ]
  },
  {
   "cell_type": "code",
   "execution_count": 16,
   "id": "79f10098",
   "metadata": {},
   "outputs": [
    {
     "data": {
      "image/png": "[encoded data removed]",
      "text/plain": [
       "<Figure size 1500x1000 with 5 Axes>"
      ]
     },
     "metadata": {},
     "output_type": "display_data"
    }
   ],
   "source": [
    "# Plot training curves\n",
    "fig, ((ax1, ax2), (ax3, ax4)) = plt.subplots(2, 2, figsize=(15, 10))\n",
    "\n",
    "epochs = range(1, len(train_losses) + 1)\n",
    "\n",
    "# Loss curves\n",
    "ax1.plot(epochs, train_losses, 'b-', label='Training Loss', linewidth=2)\n",
    "ax1.plot(epochs, val_losses, 'r-', label='Validation Loss', linewidth=2)\n",
    "ax1.set_title('Training and Validation Loss', fontsize=14, fontweight='bold')\n",
    "ax1.set_xlabel('Epoch')\n",
    "ax1.set_ylabel('Loss')\n",
    "ax1.legend()\n",
    "ax1.grid(True, alpha=0.3)\n",
    "\n",
    "# Accuracy curve\n",
    "ax2.plot(epochs, val_accuracies, 'g-', label='Validation Accuracy', linewidth=2)\n",
    "ax2.set_title('Validation Accuracy', fontsize=14, fontweight='bold')\n",
    "ax2.set_xlabel('Epoch')\n",
    "ax2.set_ylabel('Accuracy')\n",
    "ax2.legend()\n",
    "ax2.grid(True, alpha=0.3)\n",
    "\n",
    "# Confusion matrix\n",
    "sns.heatmap(\n",
    "    cm, annot=True, fmt='d', cmap='Blues', \n",
    "    xticklabels=['Human', 'Machine'], \n",
    "    yticklabels=['Human', 'Machine'],\n",
    "    ax=ax3\n",
    ")\n",
    "ax3.set_title('Confusion Matrix', fontsize=14, fontweight='bold')\n",
    "ax3.set_xlabel('Predicted')\n",
    "ax3.set_ylabel('Actual')\n",
    "\n",
    "# Probability distribution\n",
    "ax4.hist(\n",
    "    [prob for i, prob in enumerate(final_probs) if final_labels[i] == 0], \n",
    "    bins=50, alpha=0.7, label='Human', color='blue'\n",
    ")\n",
    "ax4.hist(\n",
    "    [prob for i, prob in enumerate(final_probs) if final_labels[i] == 1], \n",
    "    bins=50, alpha=0.7, label='Machine', color='red'\n",
    ")\n",
    "ax4.axvline(threshold, color='black', linestyle='--', label=f'Threshold={threshold}')\n",
    "ax4.set_title('Probability Distribution by Class', fontsize=14, fontweight='bold')\n",
    "ax4.set_xlabel('Machine Probability')\n",
    "ax4.set_ylabel('Count')\n",
    "ax4.legend()\n",
    "\n",
    "plt.tight_layout()\n",
    "plt.savefig(OUTPUT_DIR / 'bert_tiny_analysis.png', dpi=300, bbox_inches='tight')\n",
    "plt.show()\n"
   ]
  },
  {
   "cell_type": "markdown",
   "id": "f2c4093d",
   "metadata": {},
   "source": [
    "## Save Final Model and Results"
   ]
  },
  {
   "cell_type": "code",
   "execution_count": 17,
   "id": "a7824b02",
   "metadata": {},
   "outputs": [
    {
     "name": "stdout",
     "output_type": "stream",
     "text": [
      "\n",
      "==================================================\n",
      "FILES SAVED\n",
      "==================================================\n",
      "📁 bert_tiny_amd_final.pth\n",
      "📁 live_training_curves.png\n",
      "📁 bert_tiny_analysis.png\n",
      "📁 best_bert_tiny_amd.pth\n",
      "📁 validation_detailed_results.csv\n"
     ]
    }
   ],
   "source": [
    "# Save comprehensive model checkpoint\n",
    "final_checkpoint = {\n",
    "    'model_state_dict': model.state_dict(),\n",
    "    'config': CONFIG,\n",
    "    'tokenizer_name': CONFIG['model_name'],\n",
    "    'model_config': model.config.to_dict(),\n",
    "    'training_history': {\n",
    "        'train_losses': train_losses,\n",
    "        'val_losses': val_losses,\n",
    "        'val_accuracies': val_accuracies\n",
    "    },\n",
    "    'final_metrics': {\n",
    "        'accuracy': accuracy,\n",
    "        'precision': precision,\n",
    "        'recall': recall,\n",
    "        'f1': f1,\n",
    "        'confusion_matrix': cm.tolist()\n",
    "    },\n",
    "    'pos_weight': pos_weight,\n",
    "    'threshold': threshold\n",
    "}\n",
    "\n",
    "torch.save(final_checkpoint, OUTPUT_DIR / 'bert_tiny_amd_final.pth')\n",
    "\n",
    "# Save detailed validation results\n",
    "val_results_df = pd.DataFrame({\n",
    "    'call_id': val_ids,\n",
    "    'true_label': final_labels,\n",
    "    'predicted_label': predictions,\n",
    "    'machine_probability': final_probs,\n",
    "    'correct': (np.array(final_labels) == np.array(predictions)).astype(int),\n",
    "    'user_text': [text[:200] + ('...' if len(text) > 200 else '') for text in val_texts]\n",
    "})\n",
    "\n",
    "val_results_df.to_csv(OUTPUT_DIR / 'validation_detailed_results.csv', index=False)\n",
    "\n",
    "print(f\"\\n{'='*50}\")\n",
    "print(\"FILES SAVED\")\n",
    "print(f\"{'='*50}\")\n",
    "for file_path in OUTPUT_DIR.iterdir():\n",
    "    print(f\"📁 {file_path.name}\")"
   ]
  },
  {
   "cell_type": "markdown",
   "id": "2b52865c",
   "metadata": {},
   "source": [
    "## Inference Function for New Transcripts"
   ]
  },
  {
   "cell_type": "code",
   "execution_count": 18,
   "id": "0116f148",
   "metadata": {},
   "outputs": [
    {
     "name": "stdout",
     "output_type": "stream",
     "text": [
      "\n",
      "==================================================\n",
      "EXAMPLE PREDICTION\n",
      "==================================================\n",
      "User text: 'Yes?'\n",
      "Prediction: Human\n",
      "Confidence: 0.0391\n"
     ]
    }
   ],
   "source": [
    "@torch.no_grad()\n",
    "def predict_transcript(\n",
    "    transcript: List[Dict[str, Any]], \n",
    "    model_path: str = None,\n",
    "    threshold: float = 0.5\n",
    ") -> Tuple[bool, float, str]:\n",
    "    \"\"\"\n",
    "    Predict if a transcript is from an answering machine\n",
    "    \n",
    "    Args:\n",
    "        transcript: List of utterances with speaker and content\n",
    "        model_path: Path to saved model (if None, uses current model)\n",
    "        threshold: Threshold for binary classification\n",
    "        \n",
    "    Returns:\n",
    "        is_machine: Boolean prediction\n",
    "        probability: Float probability of being machine (0-1)\n",
    "        user_text: Extracted user text used for prediction\n",
    "    \"\"\"\n",
    "    \n",
    "    # Load model if path provided\n",
    "    if model_path:\n",
    "        checkpoint = torch.load(model_path, map_location=device)\n",
    "        if isinstance(checkpoint, dict) and 'model_state_dict' in checkpoint:\n",
    "            model.load_state_dict(checkpoint['model_state_dict'])\n",
    "        else:\n",
    "            model.load_state_dict(checkpoint)\n",
    "    \n",
    "    model.eval()\n",
    "    \n",
    "    # Extract user text\n",
    "    user_text = extract_user_text(transcript)\n",
    "    \n",
    "    if not user_text.strip():\n",
    "        return False, 0.0, \"\"\n",
    "    \n",
    "    # Tokenize\n",
    "    encoding = tokenizer(\n",
    "        user_text,\n",
    "        add_special_tokens=True,\n",
    "        max_length=CONFIG['max_length'],\n",
    "        padding='max_length',\n",
    "        truncation=True,\n",
    "        return_attention_mask=True,\n",
    "        return_tensors='pt'\n",
    "    )\n",
    "    \n",
    "    # Move to device and predict\n",
    "    input_ids = encoding['input_ids'].to(device)\n",
    "    attention_mask = encoding['attention_mask'].to(device)\n",
    "    \n",
    "    outputs = model(input_ids=input_ids, attention_mask=attention_mask)\n",
    "    logit = outputs.logits.squeeze(-1)  # Remove last dimension\n",
    "    machine_prob = torch.sigmoid(logit).item()  # Apply sigmoid to get probability\n",
    "    \n",
    "    is_machine = machine_prob >= threshold\n",
    "    \n",
    "    return is_machine, machine_prob, user_text\n",
    "\n",
    "# Test inference on example transcript\n",
    "example_transcript = [\n",
    "    {\n",
    "        \"timestamp\": \"2025-08-21 11:38:19\", \n",
    "        \"speaker\": \"assistant\", \n",
    "        \"content\": \"Hello, this is Priya from ElevateNow. Am I speaking with Pooja sahni Sahni?\"\n",
    "    },\n",
    "    {\n",
    "        \"timestamp\": \"2025-08-21 11:38:21\", \n",
    "        \"speaker\": \"user\", \n",
    "        \"content\": \"Yes?\"\n",
    "    },\n",
    "    {\n",
    "        \"timestamp\": \"2025-08-21 11:38:21\", \n",
    "        \"speaker\": \"assistant\", \n",
    "        \"content\": \"Great! I noticed you were checking out our Nano plan but didn't complete the payment.\"\n",
    "    }\n",
    "]\n",
    "\n",
    "is_machine, prob, user_text = predict_transcript(example_transcript)\n",
    "\n",
    "print(f\"\\n{'='*50}\")\n",
    "print(\"EXAMPLE PREDICTION\")\n",
    "print(f\"{'='*50}\")\n",
    "print(f\"User text: '{user_text}'\")\n",
    "print(f\"Prediction: {'Machine' if is_machine else 'Human'}\")\n",
    "print(f\"Confidence: {prob:.4f}\")\n"
   ]
  },
  {
   "cell_type": "markdown",
   "id": "c808a36c",
   "metadata": {},
   "source": [
    "## Model Analysis and Comparison with Rule-Based System"
   ]
  },
  {
   "cell_type": "code",
   "execution_count": 19,
   "id": "a04ce736",
   "metadata": {},
   "outputs": [
    {
     "name": "stdout",
     "output_type": "stream",
     "text": [
      "Comparing BERT vs Rule-based predictions...\n"
     ]
    },
    {
     "name": "stderr",
     "output_type": "stream",
     "text": [
      "Rule-based inference: 100%|██████████| 710/710 [00:11<00:00, 61.00it/s] "
     ]
    },
    {
     "name": "stdout",
     "output_type": "stream",
     "text": [
      "\n",
      "==================================================\n",
      "BERT vs RULE-BASED COMPARISON\n",
      "==================================================\n",
      "Agreement rate: 0.9775 (694/710)\n",
      "\n",
      "Rule-based performance:\n",
      "  Accuracy:  1.0000\n",
      "  Precision: 1.0000\n",
      "  Recall:    1.0000\n",
      "  F1-Score:  1.0000\n",
      "\n",
      "BERT performance:\n",
      "  Accuracy:  0.9775\n",
      "  Precision: 0.9579\n",
      "  Recall:    0.9579\n",
      "  F1-Score:  0.9579\n",
      "\n",
      "Disagreement cases: 16\n",
      "\n",
      "First 10 disagreement cases:\n",
      "                             call_id  true_label  bert_pred  rule_pred  bert_prob                                                                                                                                                 user_text\n",
      "26d86868-09d4-48e5-95bc-d12483d30c4c           1          0          1   0.044663 Hello. Yes. I am ready to drop to your executive when I get executive then इसमें नहीं, लेकिन मेरी बात आप ग्राहक सेवा अधिकारी से करवाइए. कभी भी? Sir तो...\n",
      "11e9e0b2-bf44-4673-96e2-3d3a27ef89e5           1          0          1   0.081776 Hello? Express का यह trending गाना तो आपने सुना ही होगा. Oh my god, अरे 01:02 out out के direction में, उमेश शुक्ला Please film में किसी mapo kit को न...\n",
      "4b16720d-d031-43a8-9b2b-e866131d22c3           0          1          0   0.735121                                      Don't disturb don't disturb. The person you are speaking with has put your call on hold. Please stay on the line....\n",
      "dee42564-22ed-45e5-8366-0c7360166688           1          0          1   0.053629 Yes? I have seen that you have got many changes in people's body. And I am very eager to reduce my weight. Yes, बेबाक for me for some time and then th...\n",
      "8ee5482f-f938-4611-9fea-3788fff0533e           0          1          0   0.836141                                            Hello, I'm busy at the moment. I'll call you back in some time. You may also message me. Thank you so much....\n",
      "4ecd44b1-2943-405c-ad5c-e3f1787569df           0          1          0   0.709841 अरे Yes? To check out what it is, but I am based in पूना, so I don't know whether how will the blood test be done and all didn't ask me my location an...\n",
      "0102b23b-7b91-4c89-9b8b-507c720a5b4f           0          1          0   0.862377 हां, yes. Hello? I just saw an ad So am I speaking to an AI assistant or is it a हां, first I would like to know the plans and the cost associated wit...\n",
      "38cae5d1-dbc6-4cd7-a2e7-86976e2e5615           1          0          1   0.105502 Yeah. I like that there was doctor consultation and my cold store reduce the rate. You are operating from दिल्ली? And IIM at चेन्नई. I would like to k...\n",
      "95caa262-4bbb-4d6a-9d13-ba12c8fd33fd           0          1          0   0.957591                         I am unable to receive your call right now. Kindly drop a message after I will get back to you as soon as possible. Thank you....\n",
      "34662efa-f3c0-4a37-b987-d704e388b034           1          0          1   0.078678 The person you are trying to reach is not available. Hello. Hello Yes? Yes I want to know after this how much is the payment mode? What is the payment...\n"
     ]
    },
    {
     "name": "stderr",
     "output_type": "stream",
     "text": [
      "\n"
     ]
    }
   ],
   "source": [
    "# Compare BERT predictions with rule-based system on validation set\n",
    "rule_based_predictions: List[int] = []\n",
    "bert_predictions: List[int] = predictions.tolist()\n",
    "\n",
    "print(\"Comparing BERT vs Rule-based predictions...\")\n",
    "for i, text in enumerate(tqdm(val_texts, desc=\"Rule-based inference\")):\n",
    "    is_machine_rule, _ = fuzzy_amd._detect_machine(text)\n",
    "    rule_based_predictions.append(1 if is_machine_rule else 0)\n",
    "\n",
    "# Calculate agreement metrics\n",
    "agreement = np.array(bert_predictions) == np.array(rule_based_predictions)\n",
    "agreement_rate = agreement.mean()\n",
    "\n",
    "print(f\"\\n{'='*50}\")\n",
    "print(\"BERT vs RULE-BASED COMPARISON\")\n",
    "print(f\"{'='*50}\")\n",
    "print(f\"Agreement rate: {agreement_rate:.4f} ({agreement.sum()}/{len(agreement)})\")\n",
    "\n",
    "# Rule-based performance\n",
    "rule_accuracy = accuracy_score(final_labels, rule_based_predictions)\n",
    "rule_precision, rule_recall, rule_f1, _ = precision_recall_fscore_support(\n",
    "    final_labels, rule_based_predictions, average='binary', zero_division=0\n",
    ")\n",
    "\n",
    "print(f\"\\nRule-based performance:\")\n",
    "print(f\"  Accuracy:  {rule_accuracy:.4f}\")\n",
    "print(f\"  Precision: {rule_precision:.4f}\")  \n",
    "print(f\"  Recall:    {rule_recall:.4f}\")\n",
    "print(f\"  F1-Score:  {rule_f1:.4f}\")\n",
    "\n",
    "print(f\"\\nBERT performance:\")\n",
    "print(f\"  Accuracy:  {accuracy:.4f}\")\n",
    "print(f\"  Precision: {precision:.4f}\")\n",
    "print(f\"  Recall:    {recall:.4f}\")\n",
    "print(f\"  F1-Score:  {f1:.4f}\")\n",
    "\n",
    "# Cases where they disagree\n",
    "disagreement_indices = np.where(~agreement)[0]\n",
    "print(f\"\\nDisagreement cases: {len(disagreement_indices)}\")\n",
    "\n",
    "if len(disagreement_indices) > 0:\n",
    "    disagreement_df = pd.DataFrame({\n",
    "        'call_id': [val_ids[i] for i in disagreement_indices[:10]],  # First 10\n",
    "        'true_label': [final_labels[i] for i in disagreement_indices[:10]],\n",
    "        'bert_pred': [bert_predictions[i] for i in disagreement_indices[:10]],\n",
    "        'rule_pred': [rule_based_predictions[i] for i in disagreement_indices[:10]], \n",
    "        'bert_prob': [final_probs[i] for i in disagreement_indices[:10]],\n",
    "        'user_text': [val_texts[i][:150] + '...' for i in disagreement_indices[:10]]\n",
    "    })\n",
    "    \n",
    "    print(f\"\\nFirst 10 disagreement cases:\")\n",
    "    print(disagreement_df.to_string(index=False))"
   ]
  },
  {
   "cell_type": "markdown",
   "id": "b1c3dbf1",
   "metadata": {},
   "source": [
    "## Summary and Next Steps"
   ]
  },
  {
   "cell_type": "code",
   "execution_count": 20,
   "id": "816c544c",
   "metadata": {},
   "outputs": [
    {
     "name": "stdout",
     "output_type": "stream",
     "text": [
      "\n",
      "============================================================\n",
      "TRAINING SUMMARY\n",
      "============================================================\n",
      "Dataset Statistics:\n",
      "  Total samples: 3,548\n",
      "  Training: 2,838\n",
      "  Validation: 710\n",
      "  Machine calls: 951 (26.8%)\n",
      "\n",
      "Model Performance:\n",
      "  Final Validation Accuracy: 0.9775\n",
      "  Final Validation F1-Score: 0.9579\n",
      "  Agreement with Rule-based: 0.9775\n",
      "\n",
      "Architecture Details:\n",
      "  Model: prajjwal1/bert-tiny\n",
      "  Output: Single logit (1 neuron)\n",
      "  Activation: Sigmoid (in BCEWithLogitsLoss)\n",
      "  Loss: BCEWithLogitsLoss with pos_weight=2.729\n",
      "  Parameters: 4,386,049\n",
      "  Training Epochs: 12\n",
      "  Early Stopping: Yes\n",
      "\n",
      "Files Generated:\n",
      "  📁 bert_tiny_amd_final.pth (17152.7 KB)\n",
      "  📁 bert_tiny_analysis.png (339.5 KB)\n",
      "  📁 best_bert_tiny_amd.pth (17149.5 KB)\n",
      "  📁 live_training_curves.png (360.8 KB)\n",
      "  📁 validation_detailed_results.csv (102.3 KB)\n",
      "\n",
      "============================================================\n",
      "NEXT STEPS\n",
      "============================================================\n",
      "1. Upload model to HuggingFace Hub for production deployment\n",
      "2. Integrate with VoiceX AMD Manager service\n",
      "3. Implement progressive utterance analysis (1→2→3 utterances)\n",
      "4. Monitor performance on live call data\n",
      "5. Set up retraining pipeline for model updates\n"
     ]
    }
   ],
   "source": [
    "print(f\"\\n{'='*60}\")\n",
    "print(\"TRAINING SUMMARY\")\n",
    "print(f\"{'='*60}\")\n",
    "\n",
    "print(f\"Dataset Statistics:\")\n",
    "print(f\"  Total samples: {len(train_texts) + len(val_texts):,}\")\n",
    "print(f\"  Training: {len(train_texts):,}\")\n",
    "print(f\"  Validation: {len(val_texts):,}\")\n",
    "print(f\"  Machine calls: {sum(train_labels + val_labels):,} ({(sum(train_labels + val_labels)/(len(train_texts) + len(val_texts)))*100:.1f}%)\")\n",
    "\n",
    "print(f\"\\nModel Performance:\")\n",
    "print(f\"  Final Validation Accuracy: {accuracy:.4f}\")\n",
    "print(f\"  Final Validation F1-Score: {f1:.4f}\")\n",
    "print(f\"  Agreement with Rule-based: {agreement_rate:.4f}\")\n",
    "\n",
    "print(f\"\\nArchitecture Details:\")\n",
    "print(f\"  Model: {CONFIG['model_name']}\")\n",
    "print(f\"  Output: Single logit (1 neuron)\")\n",
    "print(f\"  Activation: Sigmoid (in BCEWithLogitsLoss)\")\n",
    "print(f\"  Loss: BCEWithLogitsLoss with pos_weight={pos_weight:.3f}\")\n",
    "print(f\"  Parameters: {sum(p.numel() for p in model.parameters()):,}\")\n",
    "print(f\"  Training Epochs: {len(train_losses)}\")\n",
    "print(f\"  Early Stopping: {'Yes' if early_stopping.early_stop else 'No'}\")\n",
    "\n",
    "print(f\"\\nFiles Generated:\")\n",
    "for file_path in sorted(OUTPUT_DIR.iterdir()):\n",
    "    size_kb = file_path.stat().st_size / 1024\n",
    "    print(f\"  📁 {file_path.name} ({size_kb:.1f} KB)\")\n",
    "\n",
    "print(f\"\\n{'='*60}\")\n",
    "print(\"NEXT STEPS\")\n",
    "print(f\"{'='*60}\")\n",
    "print(\"1. Upload model to HuggingFace Hub for production deployment\")\n",
    "print(\"2. Integrate with VoiceX AMD Manager service\")\n",
    "print(\"3. Implement progressive utterance analysis (1→2→3 utterances)\")\n",
    "print(\"4. Monitor performance on live call data\")\n",
    "print(\"5. Set up retraining pipeline for model updates\")\n"
   ]
  },
  {
   "cell_type": "markdown",
   "id": "6fdcad58",
   "metadata": {},
   "source": [
    "## Production Deployment Code"
   ]
  },
  {
   "cell_type": "code",
   "execution_count": 21,
   "id": "5513c046",
   "metadata": {},
   "outputs": [
    {
     "name": "stdout",
     "output_type": "stream",
     "text": [
      "Generated production inference code: output/production_inference.py\n",
      "\n",
      "🎉 BERT-Tiny AMD Classifier training completed successfully!\n"
     ]
    }
   ],
   "source": [
    "def create_production_inference_code():\n",
    "    \"\"\"Generate production-ready inference code\"\"\"\n",
    "    \n",
    "    production_code = '''\n",
    "import torch\n",
    "from transformers import AutoTokenizer, AutoModelForSequenceClassification\n",
    "from typing import List, Dict, Any, Tuple\n",
    "\n",
    "class ProductionAMDClassifier:\n",
    "    \"\"\"Production-ready AMD classifier using BERT-Tiny with single logit output\"\"\"\n",
    "    \n",
    "    def __init__(self, model_path: str, device: str = 'cuda'):\n",
    "        self.device = torch.device(device if torch.cuda.is_available() else 'cpu')\n",
    "        \n",
    "        # Load model and tokenizer\n",
    "        checkpoint = torch.load(model_path, map_location=self.device)\n",
    "        config = checkpoint['config']\n",
    "        \n",
    "        self.tokenizer = AutoTokenizer.from_pretrained(config['model_name'])\n",
    "        self.model = AutoModelForSequenceClassification.from_pretrained(\n",
    "            config['model_name'], num_labels=1  # Single logit output\n",
    "        )\n",
    "        self.model.load_state_dict(checkpoint['model_state_dict'])\n",
    "        self.model.to(self.device)\n",
    "        self.model.eval()\n",
    "        \n",
    "        self.max_length = config['max_length']\n",
    "        self.threshold = checkpoint.get('threshold', 0.5)\n",
    "        \n",
    "        print(f\"Loaded AMD classifier on {self.device}\")\n",
    "        print(f\"Architecture: Single logit + BCEWithLogitsLoss\")\n",
    "    \n",
    "    @torch.no_grad()\n",
    "    def predict(self, transcript: List[Dict[str, Any]]) -> Tuple[bool, float, str]:\n",
    "        \"\"\"Predict if transcript is from answering machine\"\"\"\n",
    "        \n",
    "        # Extract user text\n",
    "        user_texts = []\n",
    "        for utterance in transcript:\n",
    "            if utterance.get(\"speaker\", \"\").lower() == \"user\":\n",
    "                content = utterance.get(\"content\", \"\").strip()\n",
    "                if content:\n",
    "                    user_texts.append(content)\n",
    "        \n",
    "        user_text = \" \".join(user_texts)\n",
    "        \n",
    "        if not user_text.strip():\n",
    "            return False, 0.0, \"\"\n",
    "        \n",
    "        # Tokenize and predict\n",
    "        encoding = self.tokenizer(\n",
    "            user_text,\n",
    "            add_special_tokens=True,\n",
    "            max_length=self.max_length,\n",
    "            padding='max_length',\n",
    "            truncation=True,\n",
    "            return_tensors='pt'\n",
    "        )\n",
    "        \n",
    "        input_ids = encoding['input_ids'].to(self.device)\n",
    "        attention_mask = encoding['attention_mask'].to(self.device)\n",
    "        \n",
    "        outputs = self.model(input_ids=input_ids, attention_mask=attention_mask)\n",
    "        logit = outputs.logits.squeeze(-1)  # Single logit value\n",
    "        machine_prob = torch.sigmoid(logit).item()  # Apply sigmoid\n",
    "        \n",
    "        is_machine = machine_prob >= self.threshold\n",
    "        \n",
    "        return is_machine, machine_prob, user_text\n",
    "    \n",
    "    def predict_progressive(self, utterances: List[str], \n",
    "                          stage_thresholds: List[float] = [0.95, 0.85, 0.75]) -> Dict[str, Any]:\n",
    "        \"\"\"\n",
    "        Progressive utterance analysis for production AMD system\n",
    "        \n",
    "        Args:\n",
    "            utterances: List of user utterance texts\n",
    "            stage_thresholds: Confidence thresholds for each stage\n",
    "            \n",
    "        Returns:\n",
    "            Dictionary with decision, confidence, stage, and metadata\n",
    "        \"\"\"\n",
    "        results = {\n",
    "            'final_decision': False,\n",
    "            'confidence': 0.0,\n",
    "            'decision_stage': 0,\n",
    "            'stage_results': [],\n",
    "            'utterances_processed': 0\n",
    "        }\n",
    "        \n",
    "        for stage, utterance_count in enumerate([1, 2, 3], 1):\n",
    "            if len(utterances) < utterance_count:\n",
    "                break\n",
    "                \n",
    "            # Combine utterances up to current stage\n",
    "            combined_text = \" \".join(utterances[:utterance_count])\n",
    "            \n",
    "            # Get prediction\n",
    "            is_machine, confidence, _ = self.predict([\n",
    "                {\"speaker\": \"user\", \"content\": combined_text}\n",
    "            ])\n",
    "            \n",
    "            stage_result = {\n",
    "                'stage': stage,\n",
    "                'utterances': utterance_count,\n",
    "                'confidence': confidence,\n",
    "                'text': combined_text[:100] + '...'\n",
    "            }\n",
    "            results['stage_results'].append(stage_result)\n",
    "            results['utterances_processed'] = utterance_count\n",
    "            \n",
    "            # Check if confidence meets threshold for this stage\n",
    "            if stage <= len(stage_thresholds) and confidence >= stage_thresholds[stage-1]:\n",
    "                results['final_decision'] = is_machine\n",
    "                results['confidence'] = confidence\n",
    "                results['decision_stage'] = stage\n",
    "                break\n",
    "                \n",
    "            # Final stage - make decision regardless of confidence\n",
    "            if stage == 3:\n",
    "                results['final_decision'] = is_machine\n",
    "                results['confidence'] = confidence\n",
    "                results['decision_stage'] = stage\n",
    "        \n",
    "        return results\n",
    "\n",
    "# Usage example:\n",
    "# classifier = ProductionAMDClassifier('output/bert_tiny_amd_final.pth')\n",
    "# \n",
    "# # Single prediction\n",
    "# is_machine, confidence, user_text = classifier.predict(transcript)\n",
    "# \n",
    "# # Progressive analysis (for production system)\n",
    "# utterances = [\"Hello?\", \"Yes, this is John\", \"Sorry, could you repeat that?\"]\n",
    "# result = classifier.predict_progressive(utterances)\n",
    "'''\n",
    "    \n",
    "    with open(OUTPUT_DIR / 'production_inference.py', 'w') as f:\n",
    "        f.write(production_code)\n",
    "    \n",
    "    print(\"Generated production inference code: output/production_inference.py\")\n",
    "\n",
    "create_production_inference_code()\n",
    "\n",
    "print(\"\\n🎉 BERT-Tiny AMD Classifier training completed successfully!\")"
   ]
  }
 ],
 "metadata": {
  "kernelspec": {
   "display_name": ".venv",
   "language": "python",
   "name": "python3"
  },
  "language_info": {
   "codemirror_mode": {
    "name": "ipython",
    "version": 3
   },
   "file_extension": ".py",
   "mimetype": "text/x-python",
   "name": "python",
   "nbconvert_exporter": "python",
   "pygments_lexer": "ipython3",
   "version": "3.13.7"
  }
 },
 "nbformat": 4,
 "nbformat_minor": 5
}
